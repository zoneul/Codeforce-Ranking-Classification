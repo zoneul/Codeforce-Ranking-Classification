{
 "cells": [
  {
   "cell_type": "code",
   "execution_count": 1,
   "metadata": {},
   "outputs": [],
   "source": [
    "import pandas as pd\n",
    "import numpy as np\n",
    "from sklearn.impute import SimpleImputer\n",
    "from sklearn.preprocessing import StandardScaler"
   ]
  },
  {
   "cell_type": "code",
   "execution_count": 2,
   "metadata": {},
   "outputs": [],
   "source": [
    "df = pd.read_csv('codeforce_user_performance.csv')"
   ]
  },
  {
   "cell_type": "code",
   "execution_count": 3,
   "metadata": {},
   "outputs": [
    {
     "name": "stdout",
     "output_type": "stream",
     "text": [
      "rank-type\n",
      "Master              628\n",
      "Candidate Master    411\n",
      "Name: count, dtype: int64\n"
     ]
    }
   ],
   "source": [
    "class_counts = df['rank-type'].value_counts()\n",
    "print(class_counts)"
   ]
  },
  {
   "cell_type": "code",
   "execution_count": 4,
   "metadata": {},
   "outputs": [],
   "source": [
    "#Impute missing value by mean\n",
    "imputer = SimpleImputer(strategy='mean')\n",
    "impute = ['contest'+str(i) for i in range(1,11)]\n",
    "df[impute] = imputer.fit_transform(df[impute]).astype(int)"
   ]
  },
  {
   "cell_type": "code",
   "execution_count": 5,
   "metadata": {},
   "outputs": [],
   "source": [
    "#Normalize all feature to z-value\n",
    "scaler = StandardScaler()\n",
    "df[impute] = scaler.fit_transform(df[impute])"
   ]
  },
  {
   "cell_type": "code",
   "execution_count": 6,
   "metadata": {},
   "outputs": [],
   "source": [
    "def train_test_split(x,y,test_size):\n",
    "    indices = np.arange(len(x))\n",
    "    np.random.shuffle(indices)\n",
    "    x_shuffled = x[indices]\n",
    "    y_shuffled = y[indices]\n",
    "    pos = int(y.shape[0]*(1-test_size)) #number of train size\n",
    "    return x_shuffled[:pos],x_shuffled[pos:],y_shuffled[:pos],y_shuffled[pos:]"
   ]
  },
  {
   "cell_type": "code",
   "execution_count": 7,
   "metadata": {},
   "outputs": [],
   "source": [
    "X = df.drop(columns=['rank-type','userid']).values\n",
    "y = df['rank-type'].values\n",
    "\n",
    "X_train, X_test, y_train, y_test = train_test_split(X, y, 0.2)"
   ]
  },
  {
   "cell_type": "code",
   "execution_count": 8,
   "metadata": {},
   "outputs": [],
   "source": [
    "class SVM:\n",
    "    def __init__(self, d, a):\n",
    "        self.delta = d\n",
    "        self.alpha = a\n",
    "\n",
    "    def gradient(self, x, y):\n",
    "        g = np.zeros(self.w.shape[0])\n",
    "        for xi,yi in zip(x,y):\n",
    "            if np.sum(np.dot(self.w,xi))*yi < 1:\n",
    "                g -= xi*yi\n",
    "        return g\n",
    "\n",
    "    def l2norm(self, X):\n",
    "        return np.sqrt(np.sum(np.dot(X,X)))\n",
    "    \n",
    "    def fit(self, X, y):\n",
    "        self.X = X[:]\n",
    "        self.y = y[:]\n",
    "        self.train()\n",
    "\n",
    "    def train(self):\n",
    "        self.class_value = {}\n",
    "        for i,c in enumerate(np.unique(self.y)):\n",
    "            self.class_value[2*i-1] = c\n",
    "            self.y[self.y == c] = 2*i-1\n",
    "        self.w = np.zeros(self.X.shape[1])\n",
    "\n",
    "        while True:\n",
    "            grad = self.gradient(self.X, self.y)\n",
    "            w_new = self.w - self.alpha * grad\n",
    "            if self.l2norm(w_new-self.w) < self.delta:\n",
    "                break \n",
    "            self.w = w_new.copy()\n",
    "\n",
    "    def predict(self, X):\n",
    "        y_pred = np.sign(np.dot(X, self.w)+1e-9).astype(int)\n",
    "        return [self.class_value[pred] for pred in y_pred]\n",
    "    \n",
    "    def accuracy_score(self, X, y):\n",
    "        y_pred = self.predict(X)\n",
    "        return np.sum(y_pred == y)/y.shape[0]\n"
   ]
  },
  {
   "cell_type": "code",
   "execution_count": 9,
   "metadata": {},
   "outputs": [],
   "source": [
    "classifier = SVM(1e-3,1e-5)\n",
    "classifier.fit(X_train,y_train)"
   ]
  },
  {
   "cell_type": "code",
   "execution_count": 10,
   "metadata": {},
   "outputs": [
    {
     "name": "stdout",
     "output_type": "stream",
     "text": [
      "Accuracy: 0.8461538461538461\n"
     ]
    }
   ],
   "source": [
    "print('Accuracy:',classifier.accuracy_score(X_test, y_test))"
   ]
  }
 ],
 "metadata": {
  "kernelspec": {
   "display_name": "dl_env",
   "language": "python",
   "name": "dl_env"
  },
  "language_info": {
   "codemirror_mode": {
    "name": "ipython",
    "version": 3
   },
   "file_extension": ".py",
   "mimetype": "text/x-python",
   "name": "python",
   "nbconvert_exporter": "python",
   "pygments_lexer": "ipython3",
   "version": "3.10.13"
  }
 },
 "nbformat": 4,
 "nbformat_minor": 2
}
